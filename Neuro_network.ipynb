{
 "cells": [
  {
   "cell_type": "code",
   "execution_count": 1,
   "id": "parallel-cisco",
   "metadata": {},
   "outputs": [
    {
     "name": "stdout",
     "output_type": "stream",
     "text": [
      "Hello World\n",
      "3\n"
     ]
    }
   ],
   "source": [
    "#This will be the first attempt to create a neuronal network from scratch in jupyter notebook\n",
    "\n",
    "print(\"Hello World\")\n",
    "x= 1\n",
    "y=2 \n",
    "print(x*y)"
   ]
  },
  {
   "cell_type": "markdown",
   "id": "offensive-nashville",
   "metadata": {},
   "source": [
    "# test\n",
    "## Healine "
   ]
  },
  {
   "cell_type": "markdown",
   "id": "considered-pharmaceutical",
   "metadata": {},
   "source": [
    "# Collection of paper\n",
    "https://pubmed.ncbi.nlm.nih.gov/28059958/\n",
    "\n"
   ]
  }
 ],
 "metadata": {
  "kernelspec": {
   "display_name": "Python 3",
   "language": "python",
   "name": "python3"
  },
  "language_info": {
   "codemirror_mode": {
    "name": "ipython",
    "version": 3
   },
   "file_extension": ".py",
   "mimetype": "text/x-python",
   "name": "python",
   "nbconvert_exporter": "python",
   "pygments_lexer": "ipython3",
   "version": "3.9.3"
  }
 },
 "nbformat": 4,
 "nbformat_minor": 5
}
